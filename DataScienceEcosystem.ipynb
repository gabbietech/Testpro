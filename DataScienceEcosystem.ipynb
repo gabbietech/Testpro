{
  "nbformat": 4,
  "nbformat_minor": 0,
  "metadata": {
    "colab": {
      "provenance": []
    },
    "kernelspec": {
      "name": "python3",
      "display_name": "Python 3"
    },
    "language_info": {
      "name": "python"
    }
  },
  "cells": [
    {
      "cell_type": "markdown",
      "source": [
        "# Data Science Tools and Ecosystem"
      ],
      "metadata": {
        "id": "sMNA-bgXzTWf"
      }
    },
    {
      "cell_type": "markdown",
      "source": [
        "In this Notebook, Data Science Tools and Ecosystem are summarized"
      ],
      "metadata": {
        "id": "Ly0nPeOPz_xC"
      }
    },
    {
      "cell_type": "markdown",
      "source": [
        "**Objectives:**\n",
        "\n",
        "*   List popular languages for Data Science\n",
        "*   List some of the commonly used libraries used by data scientists\n",
        "*   List some examples of evaluating arithmetic expressions in python\n",
        "\n",
        "\n",
        "\n"
      ],
      "metadata": {
        "id": "L2jYeLjR-bkV"
      }
    },
    {
      "cell_type": "markdown",
      "source": [
        "Some of the popular languages data scientists uses are:\n",
        "1.   Python\n",
        "2.   R\n",
        "3.   Julia\n",
        "4.   SQL\n",
        "\n",
        "\n"
      ],
      "metadata": {
        "id": "j9jpoh4F0xJQ"
      }
    },
    {
      "cell_type": "markdown",
      "source": [
        "Some of the commonly used libraries used by Data Scientists include:\n",
        "\n",
        "\n",
        "1.   Scikit-learn\n",
        "2.   Matplotlib\n",
        "3.   Numpy"
      ],
      "metadata": {
        "id": "L5pbRT5q1s4f"
      }
    },
    {
      "cell_type": "markdown",
      "source": [
        "    | Data Science Tools |\n",
        "    | Jupyter Notebook   |\n",
        "    | RStudio            |\n",
        "    | VS Code            |\n",
        "\n"
      ],
      "metadata": {
        "id": "MKjPnMJ22wk0"
      }
    },
    {
      "cell_type": "markdown",
      "source": [
        "### Below are a few examples of evaluating arithmetic expressions in Python"
      ],
      "metadata": {
        "id": "r_2gYe6N6xge"
      }
    },
    {
      "cell_type": "code",
      "source": [
        "#This a simple arithmetic expression to mutiply then add integers\n",
        "(3*4)+5"
      ],
      "metadata": {
        "colab": {
          "base_uri": "https://localhost:8080/"
        },
        "id": "nqK2bpfF7mz8",
        "outputId": "6e01c790-76eb-4a97-b8d6-58500779d940"
      },
      "execution_count": 8,
      "outputs": [
        {
          "output_type": "execute_result",
          "data": {
            "text/plain": [
              "17"
            ]
          },
          "metadata": {},
          "execution_count": 8
        }
      ]
    },
    {
      "cell_type": "code",
      "source": [
        "#This will convert 200 minutes to hours by dividing by 60\n",
        "minutes = 200\n",
        "hours = minutes / 60\n",
        "print(hours)"
      ],
      "metadata": {
        "colab": {
          "base_uri": "https://localhost:8080/"
        },
        "id": "9ksIrgns8mWO",
        "outputId": "16e40bd5-1737-42ab-9b23-38ab06bb5747"
      },
      "execution_count": 9,
      "outputs": [
        {
          "output_type": "stream",
          "name": "stdout",
          "text": [
            "3.3333333333333335\n"
          ]
        }
      ]
    },
    {
      "cell_type": "markdown",
      "source": [
        "##Author"
      ],
      "metadata": {
        "id": "UQyIF9ViALQ_"
      }
    },
    {
      "cell_type": "markdown",
      "source": [
        "Gabriel Nmakama"
      ],
      "metadata": {
        "id": "QaGg-UEAAO1u"
      }
    }
  ]
}